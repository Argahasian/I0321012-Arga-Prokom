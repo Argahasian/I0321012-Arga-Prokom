{
 "cells": [
  {
   "cell_type": "markdown",
   "metadata": {},
   "source": [
    "# Exercise 09  \n",
    "### OPERASI MATRIKS  \n",
    "Silahkan lengkapi kode yang rumpang sesuai perintah yang diberikan.\n"
   ]
  },
  {
   "cell_type": "markdown",
   "metadata": {},
   "source": [
    "![](./image/1.png)"
   ]
  },
  {
   "cell_type": "code",
   "execution_count": 1,
   "metadata": {},
   "outputs": [
    {
     "name": "stdout",
     "output_type": "stream",
     "text": [
      "\n",
      "2     7     \n",
      "3     5     \n",
      "\n",
      "3     2     \n",
      "8     4     \n"
     ]
    }
   ],
   "source": [
    "A = [[2,7],\n",
    "     [3,5]]\n",
    "\n",
    "B = [[3, 2],\n",
    "     [8, 4]]\n",
    "\n",
    "for x in range (0, len (A)) :\n",
    "     print()\n",
    "     for y in range (0, len(A[0])) :\n",
    "          print(A[x][y], end= '     ')\n",
    "print()\n",
    "\n",
    "for x in range (0, len (B)) :\n",
    "     print()\n",
    "     for y in range (0, len(B[0])) :\n",
    "          print(B[x][y], end= '     ')\n",
    "print()\n",
    "     \n"
   ]
  },
  {
   "cell_type": "markdown",
   "metadata": {},
   "source": [
    "Buatlah matriks menggunakan metode perulangan for dengan ketentuan sebagai berikut:\n",
    "* Matriks A berisi angka sebesar 4 setelah nim kalian. (ex: nim = 12, nilai matriks [16, 16],[16,16])\n",
    "* Matriks B berisi angka sebesar 4 sebelum nim kalian. (ex: nim = 12, nilai matriks [8, 8],[8,8])\n"
   ]
  },
  {
   "cell_type": "code",
   "execution_count": 7,
   "metadata": {},
   "outputs": [
    {
     "name": "stdout",
     "output_type": "stream",
     "text": [
      "[[16, 16], [16, 16]]\n",
      "[[8, 8], [8, 8]]\n"
     ]
    }
   ],
   "source": [
    "def create(matriks, nim):\n",
    "    for i in range (2):\n",
    "        for k in range (2):\n",
    "            matriks[i][k] = nim \n",
    "create(A, 16)\n",
    "create(B, 8)\n",
    "\n",
    "print(A)\n",
    "print(B)"
   ]
  },
  {
   "cell_type": "markdown",
   "metadata": {},
   "source": [
    "## KERJAKAN SOAL BERIKUT\n",
    "1. Buatlah program penjumlahan matriks A dan B.\n",
    "2. Buatlah program pengurangan matriks A dan B.\n",
    "3. Buatlah program perkalian matriks A dan B."
   ]
  },
  {
   "cell_type": "code",
   "execution_count": 11,
   "metadata": {},
   "outputs": [
    {
     "name": "stdout",
     "output_type": "stream",
     "text": [
      "\n",
      "5     9     \n",
      "4     8     \n"
     ]
    }
   ],
   "source": [
    "#SOAL-1\n",
    "#YOUR CODE HERE\n",
    "MatriksA = [[2,7],\n",
    "            [3,4]]\n",
    "\n",
    "MatriksB = [[3, 2],\n",
    "            [1, 4]]\n",
    "\n",
    "for x in range (0, len (MatriksB)) :\n",
    "     print()\n",
    "     for y in range (0, len(MatriksB[0])) :\n",
    "          print(MatriksA[x][y] + MatriksB[x][y], end= '     ')\n",
    "print()"
   ]
  },
  {
   "cell_type": "code",
   "execution_count": 9,
   "metadata": {},
   "outputs": [
    {
     "name": "stdout",
     "output_type": "stream",
     "text": [
      "\n",
      "-1     5     \n",
      "2     0     \n"
     ]
    }
   ],
   "source": [
    "#SOAL-2\n",
    "#YOUR CODE HERE\n",
    "MatriksA = [[2,7],\n",
    "            [3,4]]\n",
    "\n",
    "MatriksB = [[3, 2],\n",
    "            [1, 4]]\n",
    "\n",
    "for x in range (0, len (MatriksB)) :\n",
    "     print()\n",
    "     for y in range (0, len(MatriksB[0])) :\n",
    "          print(MatriksA[x][y] - MatriksB[x][y], end= '     ')\n",
    "print()"
   ]
  },
  {
   "cell_type": "code",
   "execution_count": 10,
   "metadata": {},
   "outputs": [
    {
     "name": "stdout",
     "output_type": "stream",
     "text": [
      "\n",
      "\n",
      "13     32     13     22     \n"
     ]
    }
   ],
   "source": [
    "#SOAL-3\n",
    "#YOUR CODE HERE\n",
    "MatriksA = [[2,7],\n",
    "            [3,4]]\n",
    "\n",
    "MatriksB = [[3, 2],\n",
    "            [1, 4]]\n",
    "\n",
    "MatriksC = []\n",
    "\n",
    "for x in range (0, len (MatriksA)) :\n",
    "     print()\n",
    "\n",
    "     baris = []\n",
    "     for y in range (0, len(MatriksA[0])) :\n",
    "         total = 0;\n",
    "         for z in range (0, len(MatriksA)) :\n",
    "             total = total + (MatriksA[x][z] * MatriksB [z][y])\n",
    "         baris.append(total)\n",
    "     MatriksC.append(baris)\n",
    "\n",
    "for x in range (0, len(MatriksC)) :\n",
    "    for y in range(0, len(MatriksC[0])) :\n",
    "        print(MatriksC[x][y], end= '     ')\n",
    "print()"
   ]
  },
  {
   "cell_type": "markdown",
   "metadata": {},
   "source": [
    "### Cara Pengumpulan\n",
    "\n",
    "1. Buka *New Terminal*\n",
    "2. Pastikan *path* Terminal adalah folder repositori kalian (NIM-Nama-Prokom).\n",
    "3. Tambahkan file yang akan ditrack dengan `git add <nama file>`. Nama file bisa diubah . (titik)  `git add .`yang artinya semua file dalam folder akan ditrack.\n",
    "4. Lakukan commit perubahan dengan `git commit -m <deskripsi>`.\n",
    "5. Lakukan push dengan `git push -u origin <nama branch>`. Nama branch dapat diketahui dengan `git branch`.\n",
    "6. Pastikan Exercise-02 telah terupload dan dapat diakses di repositori dengan mengaksesnya di browser."
   ]
  }
 ],
 "metadata": {
  "interpreter": {
   "hash": "da274d1b4032004f9a90051fce470531f7713343cff0df186542afcf57dd873e"
  },
  "kernelspec": {
   "display_name": "Python 3.10.2 64-bit",
   "language": "python",
   "name": "python3"
  },
  "language_info": {
   "codemirror_mode": {
    "name": "ipython",
    "version": 3
   },
   "file_extension": ".py",
   "mimetype": "text/x-python",
   "name": "python",
   "nbconvert_exporter": "python",
   "pygments_lexer": "ipython3",
   "version": "3.10.2"
  },
  "orig_nbformat": 4
 },
 "nbformat": 4,
 "nbformat_minor": 2
}
